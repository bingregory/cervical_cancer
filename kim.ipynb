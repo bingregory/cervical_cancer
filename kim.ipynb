{
 "cells": [
  {
   "cell_type": "code",
   "execution_count": 1,
   "metadata": {},
   "outputs": [],
   "source": [
    "import csv\n",
    "# create a variable to store our csv file\n",
    "cc_file = 'data_files/kag_risk_factors_cervical_cancer.csv'\n",
    "# empty array to append deleted rows to\n",
    "deleted_rows = []\n",
    "\n",
    "# function to apply to our data that returns an array of rows (in dictionaries) without rows with 20 or more '?'s\n",
    "# Appends the deleted rows to deleted_rows array\n",
    "def delete_row(file):\n",
    "    # array to append rows that don't have 20 or more '?'s\n",
    "    to_keep = []\n",
    "    # counter to keep track of how many question marks are in each row\n",
    "    count = 0\n",
    "    # opening file and creating dictionary of file contents in variable data\n",
    "    with open(file) as cc_data:\n",
    "        data = csv.DictReader(cc_data)\n",
    "        # iterating each row of data (row content is lumped into a dictionary of key value pairs)\n",
    "        for row in data:\n",
    "            # resetting counter after each row of data is iterated through\n",
    "            count = 0\n",
    "            # iterating through each key/value pair in each row\n",
    "            for key,value in row.items():\n",
    "                # checkin to see if value in row is '?'\n",
    "                if value == '?':\n",
    "                    # for each value in a row that is a '?' - counter adds one\n",
    "                    count += 1\n",
    "                    # if there are 20 or more '?' in a row - that row is appended to deleted_rows array\n",
    "                    if count >= 20:\n",
    "                        deleted_rows.append(row)\n",
    "            # once whole row is evaluated - if count is less that 20, that row is appended to to_keep array\n",
    "            if count < 20:\n",
    "                to_keep.append(row)\n",
    "    # to_keep is array of all rows that have less than 20 '?'\n",
    "    return to_keep\n",
    "# array of all rows with less than 20 question-marks is saved to rows_cleaned variable to be used from now on.\n",
    "rows_cleaned = delete_row(cc_file)"
   ]
  },
  {
   "cell_type": "code",
   "execution_count": 2,
   "metadata": {},
   "outputs": [
    {
     "name": "stdout",
     "output_type": "stream",
     "text": [
      "763\n",
      "123\n"
     ]
    }
   ],
   "source": [
    "# amount of 'rows' kept and deleted.\n",
    "print(len(rows_cleaned))\n",
    "print(len(deleted_rows))"
   ]
  },
  {
   "cell_type": "code",
   "execution_count": 3,
   "metadata": {},
   "outputs": [
    {
     "name": "stdout",
     "output_type": "stream",
     "text": [
      "Index(['Dx:Cancer', 'Dx:CIN', 'Dx:HPV', 'Dx', 'Hinselmann', 'Schiller',\n",
      "       'Citology', 'Biopsy'],\n",
      "      dtype='object')\n"
     ]
    }
   ],
   "source": [
    "# Importing additional libraries\n",
    "import pandas as pd\n",
    "import numpy as np\n",
    "\n",
    "# Changing data back from list to data frame format\n",
    "lst = rows_cleaned\n",
    "df = pd.DataFrame(lst)\n",
    "\n",
    "# Find the name of columns 28 to 36\n",
    "print(df.columns[28:36])"
   ]
  },
  {
   "cell_type": "code",
   "execution_count": 4,
   "metadata": {},
   "outputs": [
    {
     "name": "stdout",
     "output_type": "stream",
     "text": [
      "Dx:Cancer     0\n",
      "Dx:CIN        0\n",
      "Dx:HPV        0\n",
      "Dx            0\n",
      "Hinselmann    0\n",
      "Schiller      0\n",
      "Citology      0\n",
      "Biopsy        0\n",
      "dtype: int64\n"
     ]
    }
   ],
   "source": [
    "# To make the analysis of columns 28 to 36 easier, the creation of a subset that will only include those columns\n",
    "df_col = df[['Dx:Cancer', 'Dx:CIN', 'Dx:HPV', 'Dx', 'Hinselmann', 'Schiller','Citology', 'Biopsy']]\n",
    "# analyse if there is NaN/missing values in any of the columns\n",
    "nulls = df_col.isnull().sum()\n",
    "print(nulls)\n"
   ]
  },
  {
   "cell_type": "code",
   "execution_count": 5,
   "metadata": {},
   "outputs": [
    {
     "name": "stdout",
     "output_type": "stream",
     "text": [
      "Dx:Cancer     0.0\n",
      "Dx:CIN        0.0\n",
      "Dx:HPV        0.0\n",
      "Dx            0.0\n",
      "Hinselmann    0.0\n",
      "Schiller      0.0\n",
      "Citology      0.0\n",
      "Biopsy        0.0\n",
      "dtype: float64\n"
     ]
    }
   ],
   "source": [
    "# It has been highlighted that there are '?' characters instead of Nan \n",
    "# To make sure that no data is corrupted, the below code will check for any '?' values in the df\n",
    "find = df_col[df_col[['Dx:Cancer', 'Dx:CIN', 'Dx:HPV', 'Dx', 'Hinselmann', 'Schiller','Citology', 'Biopsy']] =='?'].sum()\n",
    "print(find)"
   ]
  },
  {
   "cell_type": "code",
   "execution_count": 6,
   "metadata": {},
   "outputs": [
    {
     "name": "stdout",
     "output_type": "stream",
     "text": [
      "Dx:Cancer     1.0\n",
      "Dx:CIN        1.0\n",
      "Dx:HPV        1.0\n",
      "Dx            1.0\n",
      "Hinselmann    1.0\n",
      "Schiller      1.0\n",
      "Citology      1.0\n",
      "Biopsy        1.0\n",
      "dtype: float64\n",
      "Dx:Cancer     0.0\n",
      "Dx:CIN        0.0\n",
      "Dx:HPV        0.0\n",
      "Dx            0.0\n",
      "Hinselmann    0.0\n",
      "Schiller      0.0\n",
      "Citology      0.0\n",
      "Biopsy        0.0\n",
      "dtype: float64\n"
     ]
    }
   ],
   "source": [
    "# Values in columns 28 - 36 are booleans, to be sure that no other numerical values are present the below code will check for max and min values in the df\n",
    "print(df_col.max())\n",
    "print(df_col.min())"
   ]
  }
 ],
 "metadata": {
  "kernelspec": {
   "display_name": "Python 3.8.3 ('base')",
   "language": "python",
   "name": "python3"
  },
  "language_info": {
   "codemirror_mode": {
    "name": "ipython",
    "version": 3
   },
   "file_extension": ".py",
   "mimetype": "text/x-python",
   "name": "python",
   "nbconvert_exporter": "python",
   "pygments_lexer": "ipython3",
   "version": "3.8.3"
  },
  "orig_nbformat": 4,
  "vscode": {
   "interpreter": {
    "hash": "2e5b9983016a64168ff1fe3ecd76457b1b3f72b869902bf776cbc05e201d7728"
   }
  }
 },
 "nbformat": 4,
 "nbformat_minor": 2
}
