{
 "cells": [
  {
   "cell_type": "code",
   "execution_count": 3,
   "metadata": {},
   "outputs": [],
   "source": [
    "import numpy as np\n",
    "import pandas as pd\n",
    "data = pd.read_csv(\"data_files/kag_risk_factors_cervical_cancer.csv\")"
   ]
  },
  {
   "cell_type": "code",
   "execution_count": 4,
   "metadata": {},
   "outputs": [
    {
     "name": "stdout",
     "output_type": "stream",
     "text": [
      "     Age Number of sexual partners First sexual intercourse  \\\n",
      "0     18                       4.0                     15.0   \n",
      "1     15                       1.0                     14.0   \n",
      "2     34                       1.0                        ?   \n",
      "3     52                       5.0                     16.0   \n",
      "4     46                       3.0                     21.0   \n",
      "..   ...                       ...                      ...   \n",
      "853   34                       3.0                     18.0   \n",
      "854   32                       2.0                     19.0   \n",
      "855   25                       2.0                     17.0   \n",
      "856   33                       2.0                     24.0   \n",
      "857   29                       2.0                     20.0   \n",
      "\n",
      "    Num of pregnancies Smokes Smokes (years) Smokes (packs/year)  \\\n",
      "0                  1.0    0.0            0.0                 0.0   \n",
      "1                  1.0    0.0            0.0                 0.0   \n",
      "2                  1.0    0.0            0.0                 0.0   \n",
      "3                  4.0    1.0           37.0                37.0   \n",
      "4                  4.0    0.0            0.0                 0.0   \n",
      "..                 ...    ...            ...                 ...   \n",
      "853                0.0    0.0            0.0                 0.0   \n",
      "854                1.0    0.0            0.0                 0.0   \n",
      "855                0.0    0.0            0.0                 0.0   \n",
      "856                2.0    0.0            0.0                 0.0   \n",
      "857                1.0    0.0            0.0                 0.0   \n",
      "\n",
      "    Hormonal Contraceptives Hormonal Contraceptives (years)  IUD  ...  \\\n",
      "0                       0.0                             0.0  0.0  ...   \n",
      "1                       0.0                             0.0  0.0  ...   \n",
      "2                       0.0                             0.0  0.0  ...   \n",
      "3                       1.0                             3.0  0.0  ...   \n",
      "4                       1.0                            15.0  0.0  ...   \n",
      "..                      ...                             ...  ...  ...   \n",
      "853                     0.0                             0.0  0.0  ...   \n",
      "854                     1.0                             8.0  0.0  ...   \n",
      "855                     1.0                            0.08  0.0  ...   \n",
      "856                     1.0                            0.08  0.0  ...   \n",
      "857                     1.0                             0.5  0.0  ...   \n",
      "\n",
      "    STDs: Time since first diagnosis STDs: Time since last diagnosis  \\\n",
      "0                                  ?                               ?   \n",
      "1                                  ?                               ?   \n",
      "2                                  ?                               ?   \n",
      "3                                  ?                               ?   \n",
      "4                                  ?                               ?   \n",
      "..                               ...                             ...   \n",
      "853                                ?                               ?   \n",
      "854                                ?                               ?   \n",
      "855                                ?                               ?   \n",
      "856                                ?                               ?   \n",
      "857                                ?                               ?   \n",
      "\n",
      "    Dx:Cancer Dx:CIN Dx:HPV Dx Hinselmann Schiller Citology Biopsy  \n",
      "0           0      0      0  0          0        0        0      0  \n",
      "1           0      0      0  0          0        0        0      0  \n",
      "2           0      0      0  0          0        0        0      0  \n",
      "3           1      0      1  0          0        0        0      0  \n",
      "4           0      0      0  0          0        0        0      0  \n",
      "..        ...    ...    ... ..        ...      ...      ...    ...  \n",
      "853         0      0      0  0          0        0        0      0  \n",
      "854         0      0      0  0          0        0        0      0  \n",
      "855         0      0      0  0          0        0        1      0  \n",
      "856         0      0      0  0          0        0        0      0  \n",
      "857         0      0      0  0          0        0        0      0  \n",
      "\n",
      "[858 rows x 36 columns]\n"
     ]
    }
   ],
   "source": []
  }
 ],
 "metadata": {
  "kernelspec": {
   "display_name": "Python 3.9.12 ('base')",
   "language": "python",
   "name": "python3"
  },
  "language_info": {
   "codemirror_mode": {
    "name": "ipython",
    "version": 3
   },
   "file_extension": ".py",
   "mimetype": "text/x-python",
   "name": "python",
   "nbconvert_exporter": "python",
   "pygments_lexer": "ipython3",
   "version": "3.9.12"
  },
  "orig_nbformat": 4,
  "vscode": {
   "interpreter": {
    "hash": "b0361fa627caee756e5f704526fff6dcbdf257bb2ce4a158a99cd18dde70e581"
   }
  }
 },
 "nbformat": 4,
 "nbformat_minor": 2
}
