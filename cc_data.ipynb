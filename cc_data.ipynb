{
 "cells": [
  {
   "cell_type": "code",
   "execution_count": 7,
   "metadata": {},
   "outputs": [],
   "source": [
    "import csv\n",
    "# create a variable to store our csv file\n",
    "cc_file = 'data_files/kag_risk_factors_cervical_cancer.csv'\n",
    "# empty array to append deleted rows to\n",
    "deleted_rows = []\n",
    "\n",
    "# function to apply to our data that returns an array of rows (in dictionaries) without rows with 20 or more '?'s\n",
    "# Appends the deleted rows to deleted_rows array\n",
    "def delete_row(file):\n",
    "    # array to append rows that don't have 20 or more '?'s\n",
    "    to_keep = []\n",
    "    # counter to keep track of how many question marks are in each row\n",
    "    count = 0\n",
    "    # opening file and creating dictionary of file contents in variable data\n",
    "    with open(file) as cc_data:\n",
    "        data = csv.DictReader(cc_data)\n",
    "        # iterating each row of data (row content is lumped into a dictionary of key value pairs)\n",
    "        for row in data:\n",
    "            # resetting counter after each row of data is iterated through\n",
    "            count = 0\n",
    "            # iterating through each key/value pair in each row\n",
    "            for key,value in row.items():\n",
    "                # checkin to see if value in row is '?'\n",
    "                if value == '?':\n",
    "                    # for each value in a row that is a '?' - counter adds one\n",
    "                    count += 1\n",
    "                    # if there are 20 or more '?' in a row - that row is appended to deleted_rows array\n",
    "                    if count >= 20:\n",
    "                        deleted_rows.append(row)\n",
    "            # once whole row is evaluated - if count is less that 20, that row is appended to to_keep array\n",
    "            if count < 20:\n",
    "                to_keep.append(row)\n",
    "    # to_keep is array of all rows that have less than 20 '?'\n",
    "    return to_keep\n",
    "# array of all rows with less than 20 question-marks is saved to rows_cleaned variable to be used from now on.\n",
    "rows_cleaned = delete_row(cc_file)\n",
    "\n"
   ]
  },
  {
   "cell_type": "code",
   "execution_count": 8,
   "metadata": {},
   "outputs": [
    {
     "name": "stdout",
     "output_type": "stream",
     "text": [
      "763\n",
      "123\n"
     ]
    }
   ],
   "source": [
    "# amount of 'rows' kept and deleted.\n",
    "print(len(rows_cleaned))\n",
    "print(len(deleted_rows))"
   ]
  },
  {
   "cell_type": "code",
   "execution_count": 9,
   "metadata": {},
   "outputs": [
    {
     "data": {
      "text/plain": [
       "36"
      ]
     },
     "execution_count": 9,
     "metadata": {},
     "output_type": "execute_result"
    }
   ],
   "source": []
  }
 ],
 "metadata": {
  "kernelspec": {
   "display_name": "Python 3.9.13 ('myenv')",
   "language": "python",
   "name": "python3"
  },
  "language_info": {
   "codemirror_mode": {
    "name": "ipython",
    "version": 3
   },
   "file_extension": ".py",
   "mimetype": "text/x-python",
   "name": "python",
   "nbconvert_exporter": "python",
   "pygments_lexer": "ipython3",
   "version": "3.9.13"
  },
  "orig_nbformat": 4,
  "vscode": {
   "interpreter": {
    "hash": "c3d8a8be75f9e7e90c92f56a26dc284ac664b6f4edfe25f866cebb8c85a664d9"
   }
  }
 },
 "nbformat": 4,
 "nbformat_minor": 2
}
